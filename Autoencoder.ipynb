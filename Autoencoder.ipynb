{
 "cells": [
  {
   "cell_type": "markdown",
   "id": "a7f4b9b2",
   "metadata": {},
   "source": [
    "<h1 align=\"center\">Autoencoder</h1><br>\n",
    "An autoencoder is a type of artificial neural network used to learn efficient codings of unlabeled data (unsupervised learning). The encoding is validated and refined by attempting to regenerate the input from the encoding. The autoencoder learns a representation (encoding) for a set of data, typically for dimensionality reduction, by training the network to ignore insignificant data (“noise”).\n",
    "\n",
    "\n",
    "## Architecture\n",
    "The core of Autoencoder is the code-decode operation. Both the encoder and decoder may be Convolutional Neural Network or fully-connected feedforward neural networks.\n",
    "An autoencoder has three main parts: \n",
    "- An encoder that maps the input into the code.\n",
    "- A decoder that maps the code to a reconstruction of the input.\n",
    "- Latent Space, which is the layers in the middle contains the decoded information.\n",
    "\n",
    "## Types\n",
    "<h3>Denoising autoencoder:</h3> Creates a corrupted copy of the input by introducing some noise. This helps to avoid the autoencoders to copy the input to the output without learning features about the data. These autoencoders take a partially corrupted input while training to recover the original undistorted input. The model learns a vector field for mapping the input data towards a lower dimensional manifold which describes the natural data to cancel out the added noise.\n",
    "<img src=\"images/Denoising.png\" height=\"300\" width=\"500\"></img><br><b>Advantages:</b> It was introduced to achieve good representation. Such a representation is one that can be obtained robustly from a corrupted input and that will be useful for recovering the corresponding clean input.\n",
    "Corruption of the input can be done randomly by making some of the input as zero. Remaining nodes copy the input to the noised input.\n",
    "Minimizes the loss function between the output node and the corrupted input.\n",
    "\n",
    "\n",
    "<h3>Sparse Autoencoder:</h3> Have hidden nodes greater than input nodes. They can still discover important features from the data. A generic sparse autoencoder is visualized where the obscurity of a node corresponds with the level of activation. Sparsity constraint is introduced on the hidden layer. This is to prevent output layer copy input data. Sparsity may be obtained by additional terms in the loss function during the training process, either by comparing the probability distribution of the hidden unit activations with some low desired value,or by manually zeroing all but the strongest hidden unit activations. Some of the most powerful AIs in the 2010s involved sparse autoencoders stacked inside of deep neural networks.<br>\n",
    "<img src=\"images/Sparse.png\" height=\"300\" width=\"500\"></img> \n",
    "<b>Advantages:</b> Have a sparsity penalty, a value close to zero but not exactly zero. Sparsity penalty is applied on the hidden layer in addition to the reconstruction error. This prevents overfitting. They take the highest activation values in the hidden layer and zero out the rest of the hidden nodes. This prevents autoencoders to use all of the hidden nodes at a time and forcing only a reduced number of hidden nodes to be used.<br> <b>Drawbacks:</b> For it to be working, it's essential that the individual nodes of a trained model which activate are data dependent, and that different inputs will result in activations of different nodes through the network.\n",
    "\n",
    "\n",
    "<h3>Deep Autoencoder:</h3>Deep Autoencoders consist of two identical deep belief networks, oOne network for encoding and another for decoding. Typically deep autoencoders have 4 to 5 layers for encoding and the next 4 to 5 layers for decoding. We use unsupervised layer by layer pre-training for this model. The layers are Restricted Boltzmann Machines which are the building blocks of deep-belief networks. Processing the benchmark dataset MNIST, a deep autoencoder would use binary transformations after each RBM. Deep autoencoders are useful in topic modeling, or statistically modeling abstract topics that are distributed across a collection of documents. They are also capable of compressing images into 30 number vectors.<img src=\"images/Deep.png\" height=\"300\" width=\"500\"></img> \n",
    "<br><b>Advantages:</b>Deep autoencoders can be used for other types of datasets with real-valued data, on which you would use Gaussian rectified transformations for the RBMs instead. Final encoding layer is compact and fast.\n",
    "<br><b>Drawbacks</b>Chances of overfitting to occur since there's more parameters than input data.\n",
    "Training the data maybe a nuance since at the stage of the decoder’s backpropagation, the learning rate should be lowered or made slower depending on whether binary or continuous data is being handled.\n",
    "\n",
    "<h3>Contractive Autoencoder:</h3>The objective of a contractive autoencoder is to have a robust learned representation which is less sensitive to small variation in the data. Robustness of the representation for the data is done by applying a penalty term to the loss function. Contractive autoencoder is another regularization technique just like sparse and denoising autoencoders. However, this regularizer corresponds to the Frobenius norm of the Jacobian matrix of the encoder activations with respect to the input. Frobenius norm of the Jacobian matrix for the hidden layer is calculated with respect to input and it is basically the sum of square of all elements.\n",
    "<img src=\"images/Contractive.png\" height=\"500\" width=\"300\"></img> <br><b>Advantages:</b>Contractive autoencoder is a better choice than denoising autoencoder to learn useful feature extraction.\n",
    "This model learns an encoding in which similar inputs have similar encodings. Hence, we're forcing the model to learn how to contract a neighborhood of inputs into a smaller neighborhood of outputs.\n",
    "\n",
    "<h3>Undercomplete Autoencoder:</h3>The objective of undercomplete autoencoder is to capture the most important features present in the data. Undercomplete autoencoders have a smaller dimension for hidden layer compared to the input layer. This helps to obtain important features from the data. It minimizes the loss function by penalizing the g(f(x)) for being different from the input x.\n",
    "<img src=\"images/Undercomplete Autoencoder.png\" height=\"300\" width=\"500\"></img> <br><b>Advantages:</b>Undercomplete autoencoders do not need any regularization as they maximize the probability of data rather than copying the input to the output.<br><b>Drawbacks:</b>Using an overparameterized model due to lack of sufficient training data can create overfitting.\n",
    "\n",
    "<h3>Convolutional Autoencoder:</h3>Autoencoders in their traditional formulation does not take into account the fact that a signal can be seen as a sum of other signals. Convolutional Autoencoders use the convolution operator to exploit this observation. They learn to encode the input in a set of simple signals and then try to reconstruct the input from them, modify the geometry or the reflectance of the image. They are the state-of-art tools for unsupervised learning of convolutional filters. Once these filters have been learned, they can be applied to any input in order to extract features. These features, then, can be used to do any task that requires a compact representation of the input, like classification.\n",
    "<img src=\"images/Conv.png\" height=\"300\" width=\"500\"></img><br><b>Advantages:</b>Due to their convolutional nature, they scale well to realistic-sized high dimensional images.\n",
    "Can remove noise from picture or reconstruct missing parts.\n",
    "<br><b>Drawbacks:</b>The reconstruction of the input image is often blurry and of lower quality due to compression during which information is lost.\n",
    "\n",
    "<h3>Variational Autoencoder:</h3>Variational autoencoder models make strong assumptions concerning the distribution of latent variables. They use a variational approach for latent representation learning, which results in an additional loss component and a specific estimator for the training algorithm called the Stochastic Gradient Variational Bayes estimator. It assumes that the data is generated by a directed graphical model and that the encoder is learning an approximation to the posterior distribution where Ф and θ denote the parameters of the encoder (recognition model) and decoder (generative model) respectively. The probability distribution of the latent vector of a variational autoencoder typically matches that of the training data much closer than a standard autoencoder.\n",
    "<img src=\"images/Var.png\" height=\"300\" width=\"500\"></img> <br><b>Advantages:</b>It gives significant control over how we want to model our latent distribution unlike the other models.\n",
    "After training you can just sample from the distribution followed by decoding and generating new data.<br><b>Drawbacks:</b>\n",
    "When training the model, there is a need to calculate the relationship of each parameter in the network with respect to the final output loss using a technique known as backpropagation. Hence, the sampling process requires some extra attention.\n",
    "\n",
    "\n",
    "<h3>I'm going to implement the Convolutional Autoencoder</h3>\n",
    "\n",
    "\n",
    "### Sources\n",
    "<a href=\"https://iq.opengenus.org/types-of-autoencoder/\">Types of Autoencoder</a><br>\n",
    "<a href=\"https://en.wikipedia.org/wiki/Autoencoder\">Autoencoder</a>"
   ]
  },
  {
   "cell_type": "markdown",
   "id": "a1fd5d53",
   "metadata": {},
   "source": [
    "### `Import the needed functions`"
   ]
  },
  {
   "cell_type": "code",
   "execution_count": 1,
   "id": "9f93c998",
   "metadata": {},
   "outputs": [],
   "source": [
    "import numpy as np\n",
    "from collections import namedtuple\n",
    "from tqdm import tqdm \n",
    "import torch \n",
    "import torch.nn as nn\n",
    "from torch.autograd import Variable\n",
    "import torch.nn.functional as F\n",
    "from torch.utils.data import Dataset, DataLoader\n",
    "from torchsummary import summary\n",
    "import torchvision \n",
    "from torchvision.datasets import MNIST\n",
    "from torchvision.transforms import transforms as T \n",
    "import matplotlib.pyplot as plt\n",
    "from torch.utils.data.sampler import SubsetRandomSampler\n",
    "\n",
    "device = torch.device('cuda' if torch.cuda.is_available() else 'cpu')"
   ]
  },
  {
   "cell_type": "markdown",
   "id": "56f2c550",
   "metadata": {},
   "source": [
    "### `Downloading the data`"
   ]
  },
  {
   "cell_type": "code",
   "execution_count": 19,
   "id": "81474005",
   "metadata": {},
   "outputs": [],
   "source": [
    "train_data = MNIST(root=r'../MNISTData',\n",
    "                   download=False,\n",
    "                   train=True,\n",
    "                   transform=T.Compose([\n",
    "                       T.ToTensor(),\n",
    "                       T.Normalize(mean = (0.1307,),\n",
    "                                   std = (0.3081,))\n",
    "                   ]))\n",
    "\n",
    "test_data = MNIST(root=r'../MNISTData',\n",
    "                   download=False,\n",
    "                   train=True,\n",
    "                   transform=T.Compose([\n",
    "                       T.ToTensor(),\n",
    "                       T.Normalize(mean = (0.1307,),\n",
    "                                   std = (0.3081,))\n",
    "                   ]))\n",
    "\n",
    "invTrans = T.Compose([T.Normalize(mean = (0),\n",
    "                                  std = (1/0.3081,))\n",
    "                     ])"
   ]
  },
  {
   "cell_type": "markdown",
   "id": "bcd0f277",
   "metadata": {},
   "source": [
    "### `Create DataLoader for the training Pipeline`"
   ]
  },
  {
   "cell_type": "code",
   "execution_count": 20,
   "id": "601701c0",
   "metadata": {},
   "outputs": [],
   "source": [
    "# Split the train data loader for train/validation\n",
    "train_size = train_data.data.shape[0]\n",
    "val_size, train_size = int(0.20 * train_size), int(0.80 * train_size) # 80 / 20 train-val split\n",
    "test_size = test_data.data.shape[0]\n",
    "batch_size = 128\n",
    "\n",
    "# Add dataset to dataloader that handles batching\n",
    "train_loader = torch.utils.data.DataLoader(train_data, \n",
    "                                           batch_size=batch_size,\n",
    "                                           sampler=SubsetRandomSampler(np.arange(val_size, val_size+train_size)))\n",
    "\n",
    "val_loader = torch.utils.data.DataLoader(train_data, \n",
    "                                           batch_size=batch_size, \n",
    "                                           sampler=SubsetRandomSampler(np.arange(0, val_size)))\n",
    "\n",
    "test_loader = torch.utils.data.DataLoader(test_data, \n",
    "                                          batch_size=batch_size, \n",
    "                                          shuffle=False)"
   ]
  },
  {
   "cell_type": "markdown",
   "id": "7534206e",
   "metadata": {},
   "source": [
    "### `Create decode_label function to interpret the model classes`"
   ]
  },
  {
   "cell_type": "code",
   "execution_count": 21,
   "id": "4c6bf39d",
   "metadata": {},
   "outputs": [],
   "source": [
    "# return class name\n",
    "def decode_label(l):\n",
    "    return train_data.classes[l]"
   ]
  },
  {
   "cell_type": "markdown",
   "id": "a2158613",
   "metadata": {},
   "source": [
    "### `Show random samples of the data`"
   ]
  },
  {
   "cell_type": "code",
   "execution_count": 22,
   "id": "4549c297",
   "metadata": {},
   "outputs": [
    {
     "data": {
      "image/png": "[encoded data removed]",
      "text/plain": [
       "<Figure size 864x576 with 12 Axes>"
      ]
     },
     "metadata": {
      "needs_background": "light"
     },
     "output_type": "display_data"
    }
   ],
   "source": [
    "fig, axes = plt.subplots(3, 4, figsize=(12,8))\n",
    "for i in range(12):\n",
    "    idx = np.random.randint(train_data.data.shape[0], size=1)[0]\n",
    "    r, c = i // 4, i % 4\n",
    "    img = train_data.data[idx]\n",
    "    label = decode_label(train_data.targets[idx]).split('-')[1].upper()\n",
    "    axes[r][c].set_title(label)\n",
    "    axes[r][c].axis('off')\n",
    "    axes[r][c].imshow(img.numpy(), interpolation='nearest')\n",
    "    \n",
    "plt.draw()"
   ]
  },
  {
   "cell_type": "markdown",
   "id": "2d4848fe",
   "metadata": {},
   "source": [
    "### `Swish Activation Function`"
   ]
  },
  {
   "cell_type": "code",
   "execution_count": 23,
   "id": "79a7b9ff",
   "metadata": {},
   "outputs": [],
   "source": [
    "class Swish(nn.Module):\n",
    "    def forward(self, input):\n",
    "        return (input * torch.sigmoid(input))\n",
    "    \n",
    "    def __repr__(self):\n",
    "        return self.__class__.__name__ + 'Swish'"
   ]
  },
  {
   "cell_type": "markdown",
   "id": "c2e883d4",
   "metadata": {},
   "source": [
    "### `Weight initializer`"
   ]
  },
  {
   "cell_type": "code",
   "execution_count": 24,
   "id": "397417dd",
   "metadata": {},
   "outputs": [],
   "source": [
    "import torch.nn.init as init\n",
    "def weight_init(m):\n",
    "    '''\n",
    "    Usage:\n",
    "        model = Model()\n",
    "        model.apply(weight_init)\n",
    "    '''\n",
    "    if isinstance(m, nn.Conv2d):\n",
    "        init.xavier_normal_(m.weight.data)\n",
    "        if m.bias is not None:\n",
    "            init.normal_(m.bias.data)\n",
    "    elif isinstance(m, nn.ConvTranspose2d):\n",
    "        init.xavier_normal_(m.weight.data)\n",
    "        if m.bias is not None:\n",
    "            init.normal_(m.bias.data)\n",
    "    elif isinstance(m, nn.BatchNorm2d):\n",
    "        init.normal_(m.weight.data, mean=1, std=0.02)\n",
    "        init.constant_(m.bias.data, 0)\n",
    "    elif isinstance(m, nn.Linear):\n",
    "        init.xavier_normal_(m.weight.data)\n",
    "        init.normal_(m.bias.data)"
   ]
  },
  {
   "cell_type": "markdown",
   "id": "2cb2067e",
   "metadata": {},
   "source": [
    "### `Parameter class`"
   ]
  },
  {
   "cell_type": "code",
   "execution_count": 25,
   "id": "97fb1276",
   "metadata": {},
   "outputs": [],
   "source": [
    "class Parameters:\n",
    "    def __init__(self):\n",
    "        self.input_shape = (1, 28, 28)\n",
    "        self.encoder_f = [32, 64, 64, 64]\n",
    "        self.decoder_f = [64, 64, 64, 32]\n",
    "        self.lat_space_size = 225\n",
    "        self.num_classes = 10\n",
    "        self.n_epochs = 5\n",
    "        self.lr = 0.015\n",
    "        self.batch_size = 128\n",
    "        self.train_val = 0.8    # 80 / 20 train-val split\n",
    "        self.val_size = val_size\n",
    "        self.train_size = train_size\n",
    "        self.test_size = test_size\n",
    "        \n",
    "P = Parameters()"
   ]
  },
  {
   "cell_type": "markdown",
   "id": "3417835b",
   "metadata": {},
   "source": [
    "### `CNN Autoencoder Model`"
   ]
  },
  {
   "cell_type": "code",
   "execution_count": 26,
   "id": "034bdd64",
   "metadata": {},
   "outputs": [
    {
     "name": "stdout",
     "output_type": "stream",
     "text": [
      "----------------------------------------------------------------\n",
      "        Layer (type)               Output Shape         Param #\n",
      "================================================================\n",
      "            Conv2d-1           [-1, 32, 28, 28]             320\n",
      "       BatchNorm2d-2           [-1, 32, 28, 28]              64\n",
      "             Swish-3           [-1, 32, 28, 28]               0\n",
      "         MaxPool2d-4           [-1, 32, 27, 27]               0\n",
      "           Dropout-5           [-1, 32, 27, 27]               0\n",
      "            Conv2d-6           [-1, 64, 27, 27]          18,496\n",
      "       BatchNorm2d-7           [-1, 64, 27, 27]             128\n",
      "             Swish-8           [-1, 64, 27, 27]               0\n",
      "         MaxPool2d-9           [-1, 64, 26, 26]               0\n",
      "          Dropout-10           [-1, 64, 26, 26]               0\n",
      "           Conv2d-11           [-1, 64, 26, 26]          36,928\n",
      "      BatchNorm2d-12           [-1, 64, 26, 26]             128\n",
      "            Swish-13           [-1, 64, 26, 26]               0\n",
      "        MaxPool2d-14           [-1, 64, 25, 25]               0\n",
      "          Dropout-15           [-1, 64, 25, 25]               0\n",
      "           Conv2d-16           [-1, 64, 25, 25]          36,928\n",
      "      BatchNorm2d-17           [-1, 64, 25, 25]             128\n",
      "            Swish-18           [-1, 64, 25, 25]               0\n",
      "        MaxPool2d-19           [-1, 64, 24, 24]               0\n",
      "          Dropout-20           [-1, 64, 24, 24]               0\n",
      "           Linear-21                  [-1, 225]       8,294,625\n",
      "           Linear-22                  [-1, 225]          50,850\n",
      "           Linear-23                [-1, 36864]       8,331,264\n",
      "  ConvTranspose2d-24           [-1, 64, 26, 26]          36,928\n",
      "      BatchNorm2d-25           [-1, 64, 26, 26]             128\n",
      "            Swish-26           [-1, 64, 26, 26]               0\n",
      "        MaxPool2d-27           [-1, 64, 25, 25]               0\n",
      "          Dropout-28           [-1, 64, 25, 25]               0\n",
      "  ConvTranspose2d-29            [-1, 1, 28, 28]           1,025\n",
      "      BatchNorm2d-30            [-1, 1, 28, 28]               2\n",
      "            Swish-31            [-1, 1, 28, 28]               0\n",
      "          Dropout-32            [-1, 1, 28, 28]               0\n",
      "================================================================\n",
      "Total params: 16,807,942\n",
      "Trainable params: 16,807,942\n",
      "Non-trainable params: 0\n",
      "----------------------------------------------------------------\n",
      "Input size (MB): 0.00\n",
      "Forward/backward pass size (MB): 7.65\n",
      "Params size (MB): 64.12\n",
      "Estimated Total Size (MB): 71.77\n",
      "----------------------------------------------------------------\n"
     ]
    }
   ],
   "source": [
    "class MnistAutoencoder (nn.Module):\n",
    "    \n",
    "    def __init__(self, P):\n",
    "        super(MnistAutoencoder, self).__init__()\n",
    "        # Input Shape\n",
    "        self.ch, self.h, self.w = P.input_shape\n",
    "        self.dropout = nn.Dropout(0.25)\n",
    "        # Encoder\n",
    "        self.Encoder = nn.Sequential(\n",
    "            # Conv1\n",
    "            nn.Conv2d(\n",
    "                in_channels=self.ch, \n",
    "                out_channels=P.encoder_f[0], \n",
    "                kernel_size=3, stride=1, padding=1),\n",
    "            nn.BatchNorm2d(P.encoder_f[0]),\n",
    "            Swish(),\n",
    "            nn.MaxPool2d(kernel_size=2, stride=1),\n",
    "            nn.Dropout(0.3),\n",
    "            # Conv2\n",
    "            nn.Conv2d(\n",
    "                in_channels=P.encoder_f[0], \n",
    "                out_channels=P.encoder_f[1], \n",
    "                 kernel_size=3, stride=1, padding=1),\n",
    "            nn.BatchNorm2d(P.encoder_f[1]),\n",
    "            Swish(),\n",
    "            nn.MaxPool2d(kernel_size=2, stride=1),\n",
    "            nn.Dropout(0.3),\n",
    "            # Conv3\n",
    "            nn.Conv2d(\n",
    "                in_channels=P.encoder_f[1], \n",
    "                out_channels=P.encoder_f[2], \n",
    "                kernel_size=3, stride=1, padding=1),\n",
    "            nn.BatchNorm2d(P.encoder_f[2]),\n",
    "            Swish(),\n",
    "            nn.MaxPool2d(kernel_size=2, stride=1),\n",
    "            nn.Dropout(0.3),\n",
    "            # Conv4\n",
    "            nn.Conv2d(\n",
    "                in_channels=P.encoder_f[2], \n",
    "                out_channels=P.encoder_f[3], \n",
    "                kernel_size=3, stride=1, padding=1),\n",
    "            nn.BatchNorm2d(P.encoder_f[3]),\n",
    "            Swish(),\n",
    "            nn.MaxPool2d(kernel_size=2, stride=1),\n",
    "            nn.Dropout(0.3)\n",
    "        )\n",
    "        \n",
    "        # Get the shape of Encoder output\n",
    "        self.CNN, self.CNN_flatten = self._get_conv_output((self.ch, self.h, self.w), self.Encoder)\n",
    "        \n",
    "        # Latent Space\n",
    "        self.latent_space1 = nn.Linear(self.CNN_flatten, P.lat_space_size)\n",
    "        self.latent_space2 = nn.Linear(P.lat_space_size, P.lat_space_size)\n",
    "        self.latent_space3 = nn.Linear(P.lat_space_size, self.CNN_flatten)\n",
    "        \n",
    "        #Decoder (Upsample the input from decoder's output's shape to Mnist shape)\n",
    "        self.Decoder = nn.Sequential(\n",
    "            # Transposed conv1\n",
    "            nn.ConvTranspose2d(in_channels=P.encoder_f[3],\n",
    "                               out_channels=P.decoder_f[0], \n",
    "                               kernel_size=3, stride=1, padding=0),\n",
    "            nn.BatchNorm2d(P.decoder_f[0]),\n",
    "            Swish(),\n",
    "            nn.MaxPool2d(kernel_size=2, stride=1),\n",
    "            nn.Dropout(0.3),\n",
    "            # Transposed conv2\n",
    "            nn.ConvTranspose2d(in_channels=P.decoder_f[0], \n",
    "                               out_channels=self.ch, \n",
    "                               kernel_size=4, stride=1, padding=0),\n",
    "            nn.BatchNorm2d(self.ch),\n",
    "            Swish(),\n",
    "            nn.Dropout(0.3)\n",
    "        )\n",
    "        \n",
    "    def _get_conv_output(self, shape, layers):\n",
    "        bs = 1\n",
    "        dummy_x = torch.empty(bs, *shape)\n",
    "        x = layers(dummy_x)\n",
    "        CNN = x.size()\n",
    "        CNN_flatten = x.flatten(1).size(1)\n",
    "        return CNN, CNN_flatten\n",
    "\n",
    "    def encoder(self, x):\n",
    "        encoded = self.Encoder(x)\n",
    "        return encoded\n",
    "    \n",
    "    def decoder(self, x):\n",
    "        decoded = self.Decoder(x)        \n",
    "        return decoded\n",
    "\n",
    "    def forward(self, x):\n",
    "        # Encoding\n",
    "        encoded = self.encoder(x)\n",
    "        encoded = encoded.view(-1, self.CNN_flatten)\n",
    "        # Latent Space\n",
    "        latent_space1 = self.latent_space1(encoded)\n",
    "        latent_space2 = self.latent_space2(latent_space1)\n",
    "        latent_space3 = self.latent_space3(latent_space2)\n",
    "        # Decoding\n",
    "        decoded = latent_space3.view(-1, self.CNN[1], self.CNN[2], self.CNN[3])\n",
    "        decoded = self.decoder(decoded) \n",
    "        return decoded\n",
    "        \n",
    "summary(MnistAutoencoder(P), (1, 28, 28))"
   ]
  },
  {
   "cell_type": "code",
   "execution_count": 27,
   "id": "7d5ad9fc",
   "metadata": {},
   "outputs": [],
   "source": [
    "#########################################\n",
    "#            Trainer Class              #\n",
    "#########################################\n",
    "\n",
    "class Trainer:\n",
    "    \n",
    "    def __init__(self, model, optimizer, criterion, scheduler, load_path=None):\n",
    "        self.__class__.__name__ = \"PyTorch Trainer\"\n",
    "        self.model = model\n",
    "        self.optimizer = optimizer\n",
    "        self.criterion = criterion\n",
    "        self.scheduler = scheduler\n",
    "        ## Setup Metric class\n",
    "        self.metrics = namedtuple('Metric', ['loss', 'train_error', 'val_error'])\n",
    "        \n",
    "        # if model exist\n",
    "        if load_path:\n",
    "            self.model = torch.load(load_path)\n",
    "        \n",
    "    def save_model(self, path):\n",
    "        torch.save(self.model.state_dict(), path)\n",
    "        \n",
    "    def run(self, train_loader, val_loader):\n",
    "        min_valid_loss = np.inf\n",
    "        ## Setup Metric class\n",
    "        Metric = namedtuple('Metric', ['loss', 'agv_train_error', 'avg_val_error'])\n",
    "        self.metrics = []\n",
    "        self.model.train() \n",
    "        min_valid_loss = np.inf\n",
    "#         np.mean([self.criterion(self.model(g),l).item() for g, l in val_loader])\n",
    "        for epoch in range(P.n_epochs):\n",
    "            train_loss = 0.0\n",
    "#             lr = self.optimizer.param_groups[0]['lr']\n",
    "            lr = self.scheduler.get_last_lr()[0]\n",
    "            data_iter = iter(train_loader)\n",
    "            prog_bar = tqdm(range(len(train_loader)))\n",
    "            for step in prog_bar: # iter over batches\n",
    "\n",
    "                ######################\n",
    "                # Get the data ready #\n",
    "                ######################\n",
    "                # get the input images and their corresponding labels\n",
    "                images, _ = data_iter.next() # no need for labels\n",
    "                \n",
    "                # wrap them in a torch Variable and move tnsors to the configured device\n",
    "                images = Variable(images).to(device)                                  \n",
    "                \n",
    "                ################\n",
    "                # Forward Pass #\n",
    "                ################\n",
    "                # Feed input images\n",
    "                out_images = self.model(images)\n",
    "                # Find the Loss\n",
    "                loss = self.criterion(images, out_images)\n",
    "\n",
    "                #################\n",
    "                # Backward Pass #\n",
    "                #################\n",
    "                # Calculate gradients\n",
    "                loss.backward()\n",
    "                # Update Weights\n",
    "                self.optimizer.step()\n",
    "                # clear the gradient\n",
    "                self.optimizer.zero_grad()\n",
    "                \n",
    "                #################\n",
    "                # Training Logs #\n",
    "                #################\n",
    "                # Calculate total Loss\n",
    "                train_loss += loss.item()\n",
    "                # Calculate total samples\n",
    "                \n",
    "                prog_bar.set_description('Epoch {}/{}, Loss: {:.4f}, lr={:.7f}'.format(epoch+1, P.n_epochs, loss.item(),lr))\n",
    "#                 torch.cuda.empty_cache()\n",
    "                del images\n",
    "                del out_images\n",
    "                del loss\n",
    "                \n",
    "            valid_loss = 0.0\n",
    "            self.model.eval() # Optional when not using Model Specific layer\n",
    "            with torch.no_grad():\n",
    "                for images, _ in (val_prog_bar := tqdm(val_loader)):\n",
    "                    # Forward Pass\n",
    "                    out_imagse = self.model(images)\n",
    "                    # Find the Loss\n",
    "                    loss = self.criterion(images, out_imagse)\n",
    "                    # Calculate Loss\n",
    "                    valid_loss += loss.item()\n",
    "                    \n",
    "                    val_prog_bar.set_description('Validation, Loss: {:.4f}'\\\n",
    "                                                 .format(epoch+1, P.n_epochs, loss.item()))\n",
    "\n",
    "            #Check point\n",
    "            if min_valid_loss > valid_loss:\n",
    "                print('Validation Loss Decreased ({:.6f} ===> {:.6f}) \\nSaving The Model'.format(min_valid_loss/len(val_loader), \n",
    "                                                                                                 valid_loss/len(val_loader)))\n",
    "\n",
    "                min_valid_loss = valid_loss/len(val_loader)\n",
    "\n",
    "            self.metrics.append(Metric(loss=train_loss, \n",
    "                                       agv_train_error=train_loss/len(train_loader.dataset),\n",
    "                                       avg_val_error=valid_loss/len(train_loader.dataset)))\n",
    "            \n",
    "            # Decrease the lr\n",
    "            scheduler.step()"
   ]
  },
  {
   "cell_type": "code",
   "execution_count": 73,
   "id": "dbcaaf99",
   "metadata": {},
   "outputs": [
    {
     "name": "stderr",
     "output_type": "stream",
     "text": [
      "Epoch 1/3, Loss: 0.4822, lr=0.0150000: 100%|█████████████████████████████████████████| 375/375 [19:47<00:00,  3.17s/it]\n",
      "Validation, Loss: 1.0000: 100%|████████████████████████████████████████████████████████| 94/94 [01:53<00:00,  1.21s/it]\n",
      "  0%|                                                                                          | 0/375 [00:00<?, ?it/s]"
     ]
    },
    {
     "name": "stdout",
     "output_type": "stream",
     "text": [
      "Validation Loss Decreased (inf ===> 0.360691) \n",
      "Saving The Model\n"
     ]
    },
    {
     "name": "stderr",
     "output_type": "stream",
     "text": [
      "Epoch 2/3, Loss: 0.1223, lr=0.0015000: 100%|█████████████████████████████████████████| 375/375 [17:11<00:00,  2.75s/it]\n",
      "Validation, Loss: 2.0000: 100%|████████████████████████████████████████████████████████| 94/94 [01:38<00:00,  1.05s/it]\n",
      "Epoch 3/3, Loss: 0.0949, lr=0.0001500: 100%|█████████████████████████████████████████| 375/375 [15:47<00:00,  2.53s/it]\n",
      "Validation, Loss: 3.0000: 100%|████████████████████████████████████████████████████████| 94/94 [01:46<00:00,  1.13s/it]\n",
      "Epoch 4/3, Loss: 0.0929, lr=0.0000150: 100%|█████████████████████████████████████████| 375/375 [17:18<00:00,  2.77s/it]\n",
      "Validation, Loss: 4.0000: 100%|████████████████████████████████████████████████████████| 94/94 [01:46<00:00,  1.14s/it]\n",
      "Epoch 5/3, Loss: 0.0820, lr=0.0000015: 100%|█████████████████████████████████████████| 375/375 [17:04<00:00,  2.73s/it]\n",
      "Validation, Loss: 5.0000: 100%|████████████████████████████████████████████████████████| 94/94 [01:44<00:00,  1.11s/it]\n"
     ]
    }
   ],
   "source": [
    "# Defining Parameters\n",
    "model = MnistAutoencoder(P)\n",
    "model.apply(weight_init)\n",
    "criterion = nn.MSELoss()\n",
    "optimizer = torch.optim.Adam(model.parameters(), lr=P.lr, weight_decay=5e-4)\n",
    "scheduler = torch.optim.lr_scheduler.StepLR(optimizer, step_size=1, gamma=0.1)\n",
    "\n",
    "# Refresh tqdm bar\n",
    "tqdm.refresh\n",
    "\n",
    "# Define model trainer and start training \n",
    "model_trainer = Trainer(model, optimizer, criterion, scheduler, '')\n",
    "model_trainer.run(train_loader, val_loader)"
   ]
  },
  {
   "cell_type": "markdown",
   "id": "edeb7b6b",
   "metadata": {},
   "source": [
    "### `Saving the model`"
   ]
  },
  {
   "cell_type": "code",
   "execution_count": 123,
   "id": "28ee3248",
   "metadata": {},
   "outputs": [],
   "source": [
    "torch.save(model_trainer.model, 'MNIST AutoEncoder.pt')"
   ]
  },
  {
   "cell_type": "code",
   "execution_count": 28,
   "id": "68e4f04e",
   "metadata": {},
   "outputs": [],
   "source": [
    "model = torch.load('MNIST AutoEncoder.pt')"
   ]
  },
  {
   "cell_type": "markdown",
   "id": "b0a6f993",
   "metadata": {},
   "source": [
    "### `Lets visualize our Results`"
   ]
  },
  {
   "cell_type": "code",
   "execution_count": 122,
   "id": "96614763",
   "metadata": {
    "scrolled": false
   },
   "outputs": [
    {
     "data": {
      "image/png": "[encoded data removed]",
      "text/plain": [
       "<Figure size 720x720 with 8 Axes>"
      ]
     },
     "metadata": {},
     "output_type": "display_data"
    }
   ],
   "source": [
    "fig, axes = plt.subplots(4, 2, figsize=(10,10))\n",
    "plt.tight_layout()\n",
    "data = iter(test_loader)\n",
    "model.eval()\n",
    "with torch.no_grad():\n",
    "    for i in range(4):\n",
    "        \n",
    "        # Make a prediction\n",
    "        idx = np.random.randint(0, P.batch_size, 1)[0]\n",
    "        images, labels = next(iter(test_loader))\n",
    "        image, label = images[idx].unsqueeze(1), decode_label(labels[idx])\n",
    "        image_pred = model(image).squeeze(1)\n",
    "        # Compaer the results with the Ground-Truth\n",
    "        # Real\n",
    "        axes[i][0].set_title(f'Ture {label.upper()}')\n",
    "        axes[i][0].imshow(image.squeeze(1).numpy().reshape(28, 28, 1))\n",
    "        axes[i][0].set_xticks([], minor=False)\n",
    "        axes[i][0].set_yticks([], minor=False)\n",
    "        # Generated\n",
    "        axes[i][1].set_title(f'Generated {label.upper()}')\n",
    "        axes[i][1].imshow(image_pred.squeeze(1).numpy().reshape(28, 28, 1))\n",
    "        axes[i][1].set_xticks([], minor=False)\n",
    "        axes[i][1].set_yticks([], minor=False)"
   ]
  },
  {
   "cell_type": "markdown",
   "id": "3207154e",
   "metadata": {},
   "source": [
    "> ### Almost the same inforamtion !"
   ]
  },
  {
   "cell_type": "markdown",
   "id": "ea3d1476",
   "metadata": {},
   "source": [
    "### `Try to feed a random noise to the model !`"
   ]
  },
  {
   "cell_type": "code",
   "execution_count": 45,
   "id": "492caeff",
   "metadata": {},
   "outputs": [
    {
     "data": {
      "image/png": "[encoded data removed]",
      "text/plain": [
       "<Figure size 432x288 with 2 Axes>"
      ]
     },
     "metadata": {
      "needs_background": "light"
     },
     "output_type": "display_data"
    }
   ],
   "source": [
    "# random data\n",
    "rand = T.Compose([\n",
    "    T.Normalize(mean = (0.1307,),\n",
    "                std = (0.3081,))\n",
    "])(torch.rand((1, 1, 28, 28)))\n",
    "# visualize the random data\n",
    "plt.subplot(1,2,1)\n",
    "plt.imshow(rand.reshape(28, 28, 1))\n",
    "# visualize the generated output from the random data \n",
    "plt.subplot(1,2,2)\n",
    "plt.imshow(model(rand).squeeze(1).detach().numpy().reshape(28, 28, 1));"
   ]
  }
 ],
 "metadata": {
  "kernelspec": {
   "display_name": "Python 3",
   "language": "python",
   "name": "python3"
  },
  "language_info": {
   "codemirror_mode": {
    "name": "ipython",
    "version": 3
   },
   "file_extension": ".py",
   "mimetype": "text/x-python",
   "name": "python",
   "nbconvert_exporter": "python",
   "pygments_lexer": "ipython3",
   "version": "3.8.8"
  }
 },
 "nbformat": 4,
 "nbformat_minor": 5
}
